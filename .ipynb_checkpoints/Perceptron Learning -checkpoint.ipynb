{
 "cells": [
  {
   "cell_type": "code",
   "execution_count": null,
   "id": "a9327874",
   "metadata": {},
   "outputs": [],
   "source": [
    "from numpy import array, random, dot\n",
    "\n",
    "from random import choice\n",
    "\n",
    "from pylab import ylim, plot\n",
    "\n",
    "from matplotlib import pyplot as plt\n",
    "\n",
    "step_function = lambda x: 0 if x < 0 else 1\n",
    "\n",
    "training_dataset = [\n",
    "\n",
    "    (array([0,0,1]), 0),\n",
    "\n",
    "    (array([0,1,1]), 1),\n",
    "\n",
    "    (array([1,0,1]), 1),\n",
    "\n",
    "    (array([1,1,1]), 1),\n",
    "\n",
    "]\n",
    "\n",
    "weights = random.rand(3)\n",
    "\n",
    "error = []\n",
    "\n",
    "learning_rate = 0.2\n",
    "\n",
    "n = 100\n",
    "\n",
    "for j in range(n):\n",
    "\n",
    "    x, expected = choice(training_dataset)\n",
    "\n",
    "    result = dot(weights, x)\n",
    "\n",
    "    err = expected - step_function(result)\n",
    "\n",
    "    error.append(err)\n",
    "\n",
    "    weights += learning_rate * err * x\n",
    "\n",
    "for x, _ in training_dataset:\n",
    "\n",
    "    result = dot(x, weights)\n",
    "\n",
    "    print(\"{}: {} -> {}\".format(x[:2], result, step_function(result)))\n",
    "\n",
    "ylim([-1,1])\n",
    "\n",
    "plot(error)\n",
    "\n",
    "plt.show()"
   ]
  }
 ],
 "metadata": {
  "kernelspec": {
   "display_name": "Python 3 (ipykernel)",
   "language": "python",
   "name": "python3"
  },
  "language_info": {
   "codemirror_mode": {
    "name": "ipython",
    "version": 3
   },
   "file_extension": ".py",
   "mimetype": "text/x-python",
   "name": "python",
   "nbconvert_exporter": "python",
   "pygments_lexer": "ipython3",
   "version": "3.9.7"
  }
 },
 "nbformat": 4,
 "nbformat_minor": 5
}
